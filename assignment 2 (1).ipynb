{
 "cells": [
  {
   "cell_type": "markdown",
   "id": "18a3a5c2-96fd-457a-a120-1e7a27b24508",
   "metadata": {},
   "source": [
    "# Theory"
   ]
  },
  {
   "cell_type": "markdown",
   "id": "33a952ba-7cd5-4a65-9743-7e397d85bb20",
   "metadata": {},
   "source": [
    "# question 1 "
   ]
  },
  {
   "cell_type": "raw",
   "id": "a81a1cd1-5c92-4df0-9fa6-1fdb2b663ce8",
   "metadata": {},
   "source": [
    "Data structure>> The way of storing and organizing the data to manipulate and access easily. \n",
    "Types of data structure = string,list,set,tuples,dictionary,array."
   ]
  },
  {
   "cell_type": "markdown",
   "id": "7f2d5c92-9df7-4a0b-bfbb-3d9bda9c2b2a",
   "metadata": {},
   "source": [
    "# question 2"
   ]
  },
  {
   "cell_type": "raw",
   "id": "4dcb0558-b804-4718-85d3-bd1aa39470f0",
   "metadata": {},
   "source": [
    "mutable data = data can be change after the creation. ex-list,set\n",
    "immuatable= cannot change after creation ex- tuples"
   ]
  },
  {
   "cell_type": "markdown",
   "id": "75e312a2-2187-4f72-a541-925f17e90bd3",
   "metadata": {},
   "source": [
    "# question 3"
   ]
  },
  {
   "cell_type": "raw",
   "id": "cbd0926d-27e1-4ee1-b977-895eef7d06d4",
   "metadata": {},
   "source": [
    "list- ordered collection of elements. it can store heterogeneous data\n",
    "symbol=[]\n",
    "tuples= tuples are immutable and denoted  as this bracket.()\n",
    "tuples also stored heterogeneous data.(orderd collection)\n",
    "uses-where data can not be cahnge after creation like adhar card, bank atm, emplyee id etc."
   ]
  },
  {
   "cell_type": "markdown",
   "id": "c7395c3a-706b-4b1c-a257-5711af039c18",
   "metadata": {},
   "source": [
    "# question 4"
   ]
  },
  {
   "cell_type": "raw",
   "id": "8e250b85-4489-43a5-b599-92e8cf579d7c",
   "metadata": {},
   "source": [
    "dictionary can store  data in the form of pair like- key: value for indexing or accessing any element we have to access its key first."
   ]
  },
  {
   "cell_type": "raw",
   "id": "6d6789b7-e2b9-4021-ae69-83c6348ee262",
   "metadata": {},
   "source": [
    "d1={\"mom\":123,\"dad\":456,\"bro\":789}"
   ]
  },
  {
   "cell_type": "markdown",
   "id": "4f75b6e0-629e-4d73-9a53-dbf0e2a28181",
   "metadata": {},
   "source": [
    "# question 5"
   ]
  },
  {
   "cell_type": "raw",
   "id": "bb1a3fc9-796e-4f6d-8249-dfb47693c2ec",
   "metadata": {},
   "source": [
    "sets are unordered collection of unique elements. it does not allowed the duplication of element. because of unique elements, we prefer sets than list."
   ]
  },
  {
   "cell_type": "markdown",
   "id": "96edf546-3edf-4932-97d6-324dbce480e1",
   "metadata": {},
   "source": [
    "# question no 6"
   ]
  },
  {
   "cell_type": "raw",
   "id": "8695642a-e186-4426-8073-ae9ccbe23ff7",
   "metadata": {},
   "source": [
    "string = sequence of characters and  characters  are represents numerical value. string is used for  represent and manipulate  the data.\n",
    "characters are assigned with unique  numerical value. ex str=[\"nisha,\"rita\"]\n",
    "list=ordered collection of elements. it can store heterogeneous data.ex l1=[1,2,3,\"nisha\",\"rita\"]\n",
    "symbol=[]\n",
    "in list characters as well as numbers can store.\n",
    "list= mutable\n",
    "string= immutable."
   ]
  },
  {
   "cell_type": "markdown",
   "id": "82d1c815-d734-402c-bfcb-08df6a980755",
   "metadata": {},
   "source": [
    "# question no 7"
   ]
  },
  {
   "cell_type": "code",
   "execution_count": null,
   "id": "1514aebf-433e-4611-9a24-3d70508d69f5",
   "metadata": {},
   "outputs": [],
   "source": [
    " tuples are immutable it can not change data after creation.\n",
    "application=where data can not be cahnge after creation like adhar card, bank atm, emplyee id etc.\n",
    "because of this reason tuples ensure data integrity."
   ]
  },
  {
   "cell_type": "markdown",
   "id": "37ccac9e-4af1-406f-8356-e19e8e083e50",
   "metadata": {},
   "source": [
    "# question no.8"
   ]
  },
  {
   "cell_type": "code",
   "execution_count": null,
   "id": "3ae356af-3000-43e8-8f0d-e7761d827c32",
   "metadata": {},
   "outputs": [],
   "source": [
    "hash value= immutable data structure has stable hash value.mutable data structure has unstable hash value.\n",
    "in dictionary list,set and dictionary can not be used as key.it shows the unhashable value.\n",
    "only tuples and strings gives the stable value when used as key."
   ]
  },
  {
   "cell_type": "markdown",
   "id": "7c5f65e3-1bf9-42e2-b884-45cf5408fb57",
   "metadata": {},
   "source": [
    "# question no 9"
   ]
  },
  {
   "cell_type": "code",
   "execution_count": null,
   "id": "7bbc5960-0678-49bd-b51b-ba4d0c543b1e",
   "metadata": {},
   "outputs": [],
   "source": [
    "yes, list contain heterogeneous data."
   ]
  },
  {
   "cell_type": "markdown",
   "id": "66cf2015-59c8-463d-b6a1-12fc0b5bd21a",
   "metadata": {},
   "source": [
    "# question no 10"
   ]
  },
  {
   "cell_type": "code",
   "execution_count": null,
   "id": "6193c2d2-b403-4552-9eae-3a237ee7c802",
   "metadata": {},
   "outputs": [],
   "source": [
    "string = sequence of characters and  characters  are represents numerical value. string is used for  represent and manipulate  the data.\n",
    "characters are assigned with unique  numerical value. it can not be change after creation but we can modify the data."
   ]
  },
  {
   "cell_type": "markdown",
   "id": "83b46ffd-202e-4b6f-b04e-f65c88edc75d",
   "metadata": {},
   "source": [
    "# question no 11"
   ]
  },
  {
   "cell_type": "code",
   "execution_count": null,
   "id": "2ca079d4-4ba6-43a4-8018-00766bac934c",
   "metadata": {},
   "outputs": [],
   "source": [
    "If you need to remove elements from the program frequently, you should use a dictionary.\n",
    "Python lists have more time complexity than dictionaries while removing an element."
   ]
  },
  {
   "cell_type": "markdown",
   "id": "92e6284a-a696-4c37-860e-766815bc44cb",
   "metadata": {},
   "source": [
    "# question no 12"
   ]
  },
  {
   "cell_type": "code",
   "execution_count": null,
   "id": "c19fdb49-ab15-4722-be3b-f70d052b4110",
   "metadata": {},
   "outputs": [],
   "source": [
    "if we have list than contain personal information. that can change by any one. \n",
    "but if we have that info in tuples it can not be change after creation \n",
    "To maintain the data integrity we choose tuples than list"
   ]
  },
  {
   "cell_type": "markdown",
   "id": "d92ed582-fc1e-4c6b-af22-ffce74e6f99b",
   "metadata": {},
   "source": [
    "#  question no 13"
   ]
  },
  {
   "cell_type": "code",
   "execution_count": null,
   "id": "abef2dcc-f61c-479c-bb0a-398d66cef89a",
   "metadata": {},
   "outputs": [],
   "source": [
    "SET= are mutable.\n",
    "unodered collection of data.\n",
    "Duplicate element does not allowed in SET."
   ]
  },
  {
   "cell_type": "markdown",
   "id": "28a13ce6-a5ee-444e-b173-2bc0aa68d72b",
   "metadata": {},
   "source": [
    "# question no.14"
   ]
  },
  {
   "cell_type": "code",
   "execution_count": null,
   "id": "2623df87-c15b-4f36-9e17-191d4cfba6ba",
   "metadata": {},
   "outputs": [],
   "source": [
    "we can check any element which is present in list by IN keyword.\n",
    "but in dictionary we can access information about keys . not for values. beacuse it pairof key and value."
   ]
  },
  {
   "cell_type": "markdown",
   "id": "8ee7eb0d-f000-4fdd-99d2-269089aca89d",
   "metadata": {},
   "source": [
    "# question no 15"
   ]
  },
  {
   "cell_type": "raw",
   "id": "44bf94eb-305b-4d68-b556-d0438f1b6d65",
   "metadata": {},
   "source": [
    "we can not modify \n",
    "tuple= does not support item assignment/ replace/pop\n",
    "tuples are immutable. "
   ]
  },
  {
   "cell_type": "markdown",
   "id": "baed401e-385a-44fd-8bab-7fdb501e7dc2",
   "metadata": {},
   "source": [
    "# question no 16"
   ]
  },
  {
   "cell_type": "raw",
   "id": "d7c01886-fea0-4e12-b645-e78c44526fc8",
   "metadata": {},
   "source": [
    "nested dictionary=it is short steps for iteration like list for loop.it is python facility to avaod long steps.in list we use [] for nesting but in dictionary we have to use{}"
   ]
  },
  {
   "cell_type": "code",
   "execution_count": 3,
   "id": "cea6f870-3186-44f5-8a75-837dfab23bab",
   "metadata": {},
   "outputs": [
    {
     "data": {
      "text/plain": [
       "{1: 'aa', 2: 'bb', 3: 'cc'}"
      ]
     },
     "execution_count": 3,
     "metadata": {},
     "output_type": "execute_result"
    }
   ],
   "source": [
    "email_id=[1,2,3]\n",
    "name=[\"aa\",\"bb\",\"cc\"]\n",
    "{email_id:name for email_id,name in zip(email_id,name)}"
   ]
  },
  {
   "cell_type": "markdown",
   "id": "6dc7d0b2-19f0-443d-9edd-d6d28e6769b5",
   "metadata": {},
   "source": [
    "# question no 17"
   ]
  },
  {
   "cell_type": "code",
   "execution_count": null,
   "id": "d4973aa8-e495-434f-af5e-7eaa46238e97",
   "metadata": {},
   "outputs": [],
   "source": [
    "dictionary unorderd collection of data. We can access the  value by using key(act like index). but we cant access key by using value.\n",
    "if values in form of list we used key as index. \n",
    "in list acceessing the element take less time than dictionary."
   ]
  },
  {
   "cell_type": "code",
   "execution_count": 4,
   "id": "797fc0b9-ccd2-4487-a3b9-17c3cec653cd",
   "metadata": {},
   "outputs": [
    {
     "data": {
      "text/plain": [
       "{'name': ['ashwini', 1, 3]}"
      ]
     },
     "execution_count": 4,
     "metadata": {},
     "output_type": "execute_result"
    }
   ],
   "source": [
    "d3={\"name\":[\"ashwini\",1,3]}\n",
    "d3"
   ]
  },
  {
   "cell_type": "code",
   "execution_count": 5,
   "id": "acaa045e-77ab-4e58-b186-286f0d16552c",
   "metadata": {},
   "outputs": [
    {
     "data": {
      "text/plain": [
       "1"
      ]
     },
     "execution_count": 5,
     "metadata": {},
     "output_type": "execute_result"
    }
   ],
   "source": [
    "d3[\"name\"][1]"
   ]
  },
  {
   "cell_type": "markdown",
   "id": "3d723ce6-b423-41a9-bab3-6ed1b1bdfccd",
   "metadata": {},
   "source": [
    "# question no 18"
   ]
  },
  {
   "cell_type": "code",
   "execution_count": null,
   "id": "f34d8108-9f02-434c-8d4e-de413e332933",
   "metadata": {},
   "outputs": [],
   "source": [
    "in list all data types can be store. but in dictionary we have only key value pair. and key should not be a list.\n",
    "in list we can add dictionary in list. \n",
    "ou can add, remove, or modify elements within a list using indexing and slicing.\n",
    "Lists are versatile for storing and managing collections that might change.\n",
    "list is orderd collection of data  and dictionary unorderd collection of data. so that indexing is possible in list.\n",
    "for this we prefer list over dictionary."
   ]
  },
  {
   "cell_type": "markdown",
   "id": "8ce6a95e-1120-4a72-bb81-bf7fe4eee8e4",
   "metadata": {},
   "source": [
    "# question no 19"
   ]
  },
  {
   "cell_type": "code",
   "execution_count": null,
   "id": "6b1ab8b7-a539-42ca-a913-a0247a4f3dc1",
   "metadata": {},
   "outputs": [],
   "source": [
    "dictionary= unorderd collection of data so that indexing is not possible.\n",
    "here not fix position of element like list.\n",
    "so that accessing element take time complexity in dictionary."
   ]
  },
  {
   "cell_type": "markdown",
   "id": "97145b81-ea60-4fce-88c6-a5a0f948db25",
   "metadata": {},
   "source": [
    "# question no.20"
   ]
  },
  {
   "cell_type": "code",
   "execution_count": null,
   "id": "aaf621c8-a13a-4129-bc6e-cfdf0837bc0e",
   "metadata": {},
   "outputs": [],
   "source": [
    "If you need to remove elements from the program frequently, you should use a dictionary. \n",
    "Python lists have more time complexity than dictionaries while removing an element.\n",
    "for acceccing element list is prefer over dictionary because of its indexing .it take less time than dictionary.\n",
    "list strore hetereogeneous data in [] but dictionary store it as key:value pair{}"
   ]
  },
  {
   "cell_type": "markdown",
   "id": "e0a921a3-c4e6-4243-a366-bb0a78e81048",
   "metadata": {},
   "source": [
    "# Practical "
   ]
  },
  {
   "cell_type": "markdown",
   "id": "92ffcbda-4208-4bc0-81f5-7c0535d469d4",
   "metadata": {},
   "source": [
    "# question 1"
   ]
  },
  {
   "cell_type": "code",
   "execution_count": 80,
   "id": "e89bb522-65fe-4e10-9f03-8b234998260c",
   "metadata": {},
   "outputs": [
    {
     "data": {
      "text/plain": [
       "['ashwini']"
      ]
     },
     "execution_count": 80,
     "metadata": {},
     "output_type": "execute_result"
    }
   ],
   "source": [
    "str=[\"ashwini\"]\n",
    "str"
   ]
  },
  {
   "cell_type": "markdown",
   "id": "64ec7019-3a0a-460e-b5bc-afbcbd5f737c",
   "metadata": {},
   "source": [
    "# question 2 "
   ]
  },
  {
   "cell_type": "code",
   "execution_count": 82,
   "id": "bb2d7c12-7e9f-420b-9588-2aa55f3dfc3b",
   "metadata": {},
   "outputs": [
    {
     "data": {
      "text/plain": [
       "['Hello World']"
      ]
     },
     "execution_count": 82,
     "metadata": {},
     "output_type": "execute_result"
    }
   ],
   "source": [
    "str1=[\"Hello World\"]\n",
    "str1"
   ]
  },
  {
   "cell_type": "code",
   "execution_count": 83,
   "id": "f96e1aa7-07b6-4f6a-b08a-d25f880101c8",
   "metadata": {},
   "outputs": [
    {
     "data": {
      "text/plain": [
       "1"
      ]
     },
     "execution_count": 83,
     "metadata": {},
     "output_type": "execute_result"
    }
   ],
   "source": [
    "len(str1)"
   ]
  },
  {
   "cell_type": "markdown",
   "id": "c22468ad-b108-4b6f-ade5-83bf27f63f4e",
   "metadata": {},
   "source": [
    "# question 3 "
   ]
  },
  {
   "cell_type": "code",
   "execution_count": 2,
   "id": "dc6b5d00-8013-467b-a1d7-54e4916fa311",
   "metadata": {},
   "outputs": [
    {
     "data": {
      "text/plain": [
       "['Python Programming']"
      ]
     },
     "execution_count": 2,
     "metadata": {},
     "output_type": "execute_result"
    }
   ],
   "source": [
    "str2=[\"Python Programming\"]\n",
    "str2"
   ]
  },
  {
   "cell_type": "code",
   "execution_count": 4,
   "id": "1e93d6fe-f9a7-4321-b5d8-2f9e243ae58c",
   "metadata": {},
   "outputs": [
    {
     "data": {
      "text/plain": [
       "'Pyt'"
      ]
     },
     "execution_count": 4,
     "metadata": {},
     "output_type": "execute_result"
    }
   ],
   "source": [
    "str2[0][:3]"
   ]
  },
  {
   "cell_type": "markdown",
   "id": "288a80f6-e59f-4759-b6e0-e9d39577ccb9",
   "metadata": {},
   "source": [
    "# question 4. "
   ]
  },
  {
   "cell_type": "code",
   "execution_count": 9,
   "id": "f1867436-db15-47fa-ae17-8ca7b17ba847",
   "metadata": {},
   "outputs": [
    {
     "data": {
      "text/plain": [
       "'hello'"
      ]
     },
     "execution_count": 9,
     "metadata": {},
     "output_type": "execute_result"
    }
   ],
   "source": [
    "str3=(\"hello\")\n",
    "str3"
   ]
  },
  {
   "cell_type": "code",
   "execution_count": 10,
   "id": "f36c67d4-7835-4eeb-a963-b72e9ea3040a",
   "metadata": {},
   "outputs": [
    {
     "data": {
      "text/plain": [
       "'HELLO'"
      ]
     },
     "execution_count": 10,
     "metadata": {},
     "output_type": "execute_result"
    }
   ],
   "source": [
    "str3.upper()"
   ]
  },
  {
   "cell_type": "markdown",
   "id": "b2e3ad36-660b-4395-8380-6d42af4796fa",
   "metadata": {},
   "source": [
    "# question 5. \n"
   ]
  },
  {
   "cell_type": "code",
   "execution_count": 5,
   "id": "d0031876-fb2d-4d8d-a116-3da570455039",
   "metadata": {},
   "outputs": [
    {
     "data": {
      "text/plain": [
       "'i like apple'"
      ]
     },
     "execution_count": 5,
     "metadata": {},
     "output_type": "execute_result"
    }
   ],
   "source": [
    "str4=(\"i like apple\")\n",
    "str4"
   ]
  },
  {
   "cell_type": "code",
   "execution_count": 8,
   "id": "996893a3-25ab-4175-bde8-224ba2af256d",
   "metadata": {},
   "outputs": [
    {
     "data": {
      "text/plain": [
       "'i like orange'"
      ]
     },
     "execution_count": 8,
     "metadata": {},
     "output_type": "execute_result"
    }
   ],
   "source": [
    "str4.replace(\"apple\",\"orange\")"
   ]
  },
  {
   "cell_type": "markdown",
   "id": "9d0d512c-3a9c-4aba-83b8-8db94bde206a",
   "metadata": {},
   "source": [
    "# question 6. "
   ]
  },
  {
   "cell_type": "code",
   "execution_count": 7,
   "id": "4d984a87-6355-47f6-a285-a032a0c39519",
   "metadata": {},
   "outputs": [
    {
     "data": {
      "text/plain": [
       "[1, 2, 3, 4, 5]"
      ]
     },
     "execution_count": 7,
     "metadata": {},
     "output_type": "execute_result"
    }
   ],
   "source": [
    "list=[1,2,3,4,5]\n",
    "list"
   ]
  },
  {
   "cell_type": "markdown",
   "id": "1d1fbbcf-c5ff-4142-82a8-1d91decb3229",
   "metadata": {},
   "source": [
    "# question no.7 "
   ]
  },
  {
   "cell_type": "code",
   "execution_count": 8,
   "id": "91c2d9d7-273c-47f4-b4be-c90a65e50968",
   "metadata": {},
   "outputs": [
    {
     "data": {
      "text/plain": [
       "[1, 2, 3, 4]"
      ]
     },
     "execution_count": 8,
     "metadata": {},
     "output_type": "execute_result"
    }
   ],
   "source": [
    "list2=[1,2,3,4]\n",
    "list2"
   ]
  },
  {
   "cell_type": "code",
   "execution_count": 9,
   "id": "dc091c2e-9c10-4b8e-a396-69be5e1c4059",
   "metadata": {},
   "outputs": [
    {
     "data": {
      "text/plain": [
       "[1, 2, 3, 4, 10]"
      ]
     },
     "execution_count": 9,
     "metadata": {},
     "output_type": "execute_result"
    }
   ],
   "source": [
    "list2.append(10)\n",
    "list2"
   ]
  },
  {
   "cell_type": "markdown",
   "id": "8622ee79-05ab-45f3-ab1b-8f5fa6c16dde",
   "metadata": {},
   "source": [
    "# question no.8 "
   ]
  },
  {
   "cell_type": "code",
   "execution_count": 10,
   "id": "d9641921-8d20-4fa1-916b-ece39919de03",
   "metadata": {},
   "outputs": [
    {
     "data": {
      "text/plain": [
       "[1, 2, 3, 4, 5]"
      ]
     },
     "execution_count": 10,
     "metadata": {},
     "output_type": "execute_result"
    }
   ],
   "source": [
    "l3=[1,2,3,4,5]\n",
    "l3"
   ]
  },
  {
   "cell_type": "code",
   "execution_count": 11,
   "id": "c6e04ea2-8f9f-404e-bccf-6ddc9eecce6d",
   "metadata": {},
   "outputs": [
    {
     "data": {
      "text/plain": [
       "[1, 2, 4, 5]"
      ]
     },
     "execution_count": 11,
     "metadata": {},
     "output_type": "execute_result"
    }
   ],
   "source": [
    "l3.remove(3)\n",
    "l3"
   ]
  },
  {
   "cell_type": "markdown",
   "id": "524ab588-01bf-4bd1-9bc5-80f74989c8f8",
   "metadata": {},
   "source": [
    "# question no.9 "
   ]
  },
  {
   "cell_type": "code",
   "execution_count": 12,
   "id": "be33416e-dc97-4237-b03f-e51dbcea1017",
   "metadata": {},
   "outputs": [
    {
     "data": {
      "text/plain": [
       "['a', 'b', 'c', 'd']"
      ]
     },
     "execution_count": 12,
     "metadata": {},
     "output_type": "execute_result"
    }
   ],
   "source": [
    "list5=[\"a\",\"b\",\"c\",\"d\"]\n",
    "list5"
   ]
  },
  {
   "cell_type": "code",
   "execution_count": 13,
   "id": "3638f841-ba67-4733-8a10-d8d224633498",
   "metadata": {},
   "outputs": [
    {
     "data": {
      "text/plain": [
       "'b'"
      ]
     },
     "execution_count": 13,
     "metadata": {},
     "output_type": "execute_result"
    }
   ],
   "source": [
    "list5[1]"
   ]
  },
  {
   "cell_type": "markdown",
   "id": "f08f5a49-6af4-45ea-ad29-056f49814798",
   "metadata": {},
   "source": [
    "# question no.10 "
   ]
  },
  {
   "cell_type": "code",
   "execution_count": 61,
   "id": "2e05602f-1563-4a02-be99-bcab85365921",
   "metadata": {},
   "outputs": [
    {
     "data": {
      "text/plain": [
       "[10, 20, 30, 40, 50]"
      ]
     },
     "execution_count": 61,
     "metadata": {},
     "output_type": "execute_result"
    }
   ],
   "source": [
    "l6=[10,20,30,40,50]\n",
    "l6"
   ]
  },
  {
   "cell_type": "code",
   "execution_count": 62,
   "id": "61979491-f877-497a-90db-6d61cfb46732",
   "metadata": {},
   "outputs": [
    {
     "data": {
      "text/plain": [
       "[50, 40, 30, 20, 10]"
      ]
     },
     "execution_count": 62,
     "metadata": {},
     "output_type": "execute_result"
    }
   ],
   "source": [
    "l6.reverse()\n",
    "l6"
   ]
  },
  {
   "cell_type": "markdown",
   "id": "c2b9ff57-b599-42c3-9550-4dc9cdf82259",
   "metadata": {},
   "source": [
    "# question 11"
   ]
  },
  {
   "cell_type": "code",
   "execution_count": 1,
   "id": "93faebed-2d7c-4fba-b837-dc103b8af30c",
   "metadata": {},
   "outputs": [
    {
     "data": {
      "text/plain": [
       "(100, 200, 300)"
      ]
     },
     "execution_count": 1,
     "metadata": {},
     "output_type": "execute_result"
    }
   ],
   "source": [
    "a=(100,200,300)\n",
    "a"
   ]
  },
  {
   "cell_type": "code",
   "execution_count": 2,
   "id": "24c5fe3f-19bc-42a9-848d-809e388d9e81",
   "metadata": {},
   "outputs": [
    {
     "data": {
      "text/plain": [
       "tuple"
      ]
     },
     "execution_count": 2,
     "metadata": {},
     "output_type": "execute_result"
    }
   ],
   "source": [
    "type(a)"
   ]
  },
  {
   "cell_type": "markdown",
   "id": "1dfbea28-ac8e-4e26-86d5-ea6ddd7c39e4",
   "metadata": {},
   "source": [
    "# question 12"
   ]
  },
  {
   "cell_type": "code",
   "execution_count": 22,
   "id": "ab498595-41ab-4af8-a194-22140264dbbe",
   "metadata": {},
   "outputs": [
    {
     "data": {
      "text/plain": [
       "('red', 'green', 'blue', 'yellow')"
      ]
     },
     "execution_count": 22,
     "metadata": {},
     "output_type": "execute_result"
    }
   ],
   "source": [
    "b=(\"red\", \"green\", \"blue\", \"yellow\")\n",
    "b"
   ]
  },
  {
   "cell_type": "code",
   "execution_count": 27,
   "id": "fac71026-29b7-4376-9371-d9bf320aeb4b",
   "metadata": {},
   "outputs": [
    {
     "data": {
      "text/plain": [
       "('green', 'blue', 'yellow')"
      ]
     },
     "execution_count": 27,
     "metadata": {},
     "output_type": "execute_result"
    }
   ],
   "source": [
    "b[1: ]"
   ]
  },
  {
   "cell_type": "markdown",
   "id": "6c7779df-8cbc-4551-803c-8799f62e9d2d",
   "metadata": {},
   "source": [
    "# question 13"
   ]
  },
  {
   "cell_type": "code",
   "execution_count": 6,
   "id": "33e5c061-8f67-478e-88c2-aca1e14646fe",
   "metadata": {},
   "outputs": [
    {
     "data": {
      "text/plain": [
       "(10, 20, 5, 15)"
      ]
     },
     "execution_count": 6,
     "metadata": {},
     "output_type": "execute_result"
    }
   ],
   "source": [
    "c=(10, 20, 5, 15)\n",
    "c"
   ]
  },
  {
   "cell_type": "code",
   "execution_count": 7,
   "id": "f9b33ec7-50ef-40b3-85ed-960b8a9b75d6",
   "metadata": {},
   "outputs": [
    {
     "data": {
      "text/plain": [
       "5"
      ]
     },
     "execution_count": 7,
     "metadata": {},
     "output_type": "execute_result"
    }
   ],
   "source": [
    "min(c)"
   ]
  },
  {
   "cell_type": "markdown",
   "id": "6103b1a6-5d60-4f57-85d7-61cdd3cc4d51",
   "metadata": {},
   "source": [
    "# question 14"
   ]
  },
  {
   "cell_type": "code",
   "execution_count": 30,
   "id": "aa4b817e-c713-41bf-971d-09e085e7c35b",
   "metadata": {},
   "outputs": [
    {
     "data": {
      "text/plain": [
       "('dog', 'cat', 'rabbit')"
      ]
     },
     "execution_count": 30,
     "metadata": {},
     "output_type": "execute_result"
    }
   ],
   "source": [
    "d= (\"dog\", \"cat\", \"rabbit\")\n",
    "d"
   ]
  },
  {
   "cell_type": "code",
   "execution_count": 31,
   "id": "42c385e9-1ab8-4195-bb8b-a773fc1a59be",
   "metadata": {},
   "outputs": [
    {
     "data": {
      "text/plain": [
       "1"
      ]
     },
     "execution_count": 31,
     "metadata": {},
     "output_type": "execute_result"
    }
   ],
   "source": [
    "d.index(\"cat\")"
   ]
  },
  {
   "cell_type": "markdown",
   "id": "b80f523e-9151-451c-af0d-72405ed74918",
   "metadata": {},
   "source": [
    "# question 15"
   ]
  },
  {
   "cell_type": "code",
   "execution_count": 11,
   "id": "f21bc73c-92b7-4ae4-8dc3-08dedfa93278",
   "metadata": {},
   "outputs": [
    {
     "data": {
      "text/plain": [
       "('apple', 'banana', 'strawberry')"
      ]
     },
     "execution_count": 11,
     "metadata": {},
     "output_type": "execute_result"
    }
   ],
   "source": [
    "e=(\"apple\",\"banana\",\"strawberry\")\n",
    "e"
   ]
  },
  {
   "cell_type": "code",
   "execution_count": 12,
   "id": "aebc27b2-e2ec-45f2-b2f0-70e11337e2e3",
   "metadata": {},
   "outputs": [
    {
     "data": {
      "text/plain": [
       "False"
      ]
     },
     "execution_count": 12,
     "metadata": {},
     "output_type": "execute_result"
    }
   ],
   "source": [
    "\"kiwi\" in e"
   ]
  },
  {
   "cell_type": "markdown",
   "id": "d0947aac-6a3a-4c6d-8194-8ecc462be1d4",
   "metadata": {},
   "source": [
    "# question 16"
   ]
  },
  {
   "cell_type": "code",
   "execution_count": 19,
   "id": "67eee81b-107a-4ca2-8b4f-6144815108dd",
   "metadata": {},
   "outputs": [
    {
     "data": {
      "text/plain": [
       "{'a', 'b', 'c'}"
      ]
     },
     "execution_count": 19,
     "metadata": {},
     "output_type": "execute_result"
    }
   ],
   "source": [
    "set={ \"a\",\"b\", \"c\" }\n",
    "set"
   ]
  },
  {
   "cell_type": "markdown",
   "id": "bc0bc7bc-718f-43c3-946c-24d063010aef",
   "metadata": {},
   "source": [
    "# question 17"
   ]
  },
  {
   "cell_type": "code",
   "execution_count": 3,
   "id": "153bf4b9-777a-4f5d-afcd-b27f51ed74b6",
   "metadata": {},
   "outputs": [
    {
     "data": {
      "text/plain": [
       "{1, 2, 3, 4, 5}"
      ]
     },
     "execution_count": 3,
     "metadata": {},
     "output_type": "execute_result"
    }
   ],
   "source": [
    "set1={1, 2, 3, 4, 5}\n",
    "set1"
   ]
  },
  {
   "cell_type": "code",
   "execution_count": 9,
   "id": "3c762a61-d0dc-420e-9023-83b3584aac44",
   "metadata": {},
   "outputs": [
    {
     "data": {
      "text/plain": [
       "set()"
      ]
     },
     "execution_count": 9,
     "metadata": {},
     "output_type": "execute_result"
    }
   ],
   "source": [
    "set1.clear()\n",
    "set1"
   ]
  },
  {
   "cell_type": "markdown",
   "id": "23535891-5222-4e94-8707-1f3ad32df18f",
   "metadata": {},
   "source": [
    "# question 18"
   ]
  },
  {
   "cell_type": "code",
   "execution_count": 32,
   "id": "f308e365-a168-4f87-af8e-6eb091102472",
   "metadata": {},
   "outputs": [
    {
     "data": {
      "text/plain": [
       "{1, 2, 3, 4}"
      ]
     },
     "execution_count": 32,
     "metadata": {},
     "output_type": "execute_result"
    }
   ],
   "source": [
    "set2= {1, 2, 3, 4}\n",
    "set2"
   ]
  },
  {
   "cell_type": "code",
   "execution_count": 33,
   "id": "3cdcb719-7567-4ff8-ba78-59b3d85d4ce2",
   "metadata": {},
   "outputs": [
    {
     "data": {
      "text/plain": [
       "{1, 2, 3}"
      ]
     },
     "execution_count": 33,
     "metadata": {},
     "output_type": "execute_result"
    }
   ],
   "source": [
    "set2.remove(4)\n",
    "set2"
   ]
  },
  {
   "cell_type": "markdown",
   "id": "f221f19a-2d39-4aab-b27c-0d0c79add3c0",
   "metadata": {},
   "source": [
    "# question 19"
   ]
  },
  {
   "cell_type": "code",
   "execution_count": 34,
   "id": "9c84d4d7-7420-4a7c-9c17-824055b01394",
   "metadata": {},
   "outputs": [
    {
     "data": {
      "text/plain": [
       "{1, 2, 3}"
      ]
     },
     "execution_count": 34,
     "metadata": {},
     "output_type": "execute_result"
    }
   ],
   "source": [
    "s1= {1, 2, 3} \n",
    "s2= {2, 3, 4}\n",
    "s1"
   ]
  },
  {
   "cell_type": "code",
   "execution_count": 35,
   "id": "76b1080b-0655-4933-b3a1-de4a3078ae02",
   "metadata": {},
   "outputs": [
    {
     "data": {
      "text/plain": [
       "{2, 3, 4}"
      ]
     },
     "execution_count": 35,
     "metadata": {},
     "output_type": "execute_result"
    }
   ],
   "source": [
    "s2"
   ]
  },
  {
   "cell_type": "code",
   "execution_count": 38,
   "id": "5513366b-065d-44f1-8011-6b7127b468cd",
   "metadata": {},
   "outputs": [
    {
     "data": {
      "text/plain": [
       "{1, 2, 3, 4}"
      ]
     },
     "execution_count": 38,
     "metadata": {},
     "output_type": "execute_result"
    }
   ],
   "source": [
    "s1|s2"
   ]
  },
  {
   "cell_type": "markdown",
   "id": "f2c97f2d-8ad9-4493-9260-620412469a26",
   "metadata": {},
   "source": [
    "# question 20"
   ]
  },
  {
   "cell_type": "code",
   "execution_count": 39,
   "id": "609ad794-a27b-4a2f-b85e-aa38f1baf240",
   "metadata": {},
   "outputs": [
    {
     "data": {
      "text/plain": [
       "{1, 2, 3}"
      ]
     },
     "execution_count": 39,
     "metadata": {},
     "output_type": "execute_result"
    }
   ],
   "source": [
    "s3={1, 2, 3}\n",
    "s4={2, 3, 4}\n",
    "s3"
   ]
  },
  {
   "cell_type": "code",
   "execution_count": 40,
   "id": "1f2334de-3087-4f5a-abcf-0cbe5b81d31e",
   "metadata": {},
   "outputs": [
    {
     "data": {
      "text/plain": [
       "{2, 3, 4}"
      ]
     },
     "execution_count": 40,
     "metadata": {},
     "output_type": "execute_result"
    }
   ],
   "source": [
    "s4"
   ]
  },
  {
   "cell_type": "code",
   "execution_count": 41,
   "id": "aa049050-e9fc-480c-827f-07336f1c1a03",
   "metadata": {},
   "outputs": [
    {
     "data": {
      "text/plain": [
       "{2, 3}"
      ]
     },
     "execution_count": 41,
     "metadata": {},
     "output_type": "execute_result"
    }
   ],
   "source": [
    "s3&s4"
   ]
  },
  {
   "cell_type": "markdown",
   "id": "9d6aecc8-2168-4baf-ad02-b297ac53b327",
   "metadata": {},
   "source": [
    "# question 21"
   ]
  },
  {
   "cell_type": "code",
   "execution_count": 43,
   "id": "219d3404-8aa1-44d2-a114-6e7c4ebf0293",
   "metadata": {},
   "outputs": [
    {
     "data": {
      "text/plain": [
       "{'name': 'ashwini', 'age': 29, 'city': 'nagpur'}"
      ]
     },
     "execution_count": 43,
     "metadata": {},
     "output_type": "execute_result"
    }
   ],
   "source": [
    "D={\"name\":\"ashwini\",\"age\":29,\"city\":\"nagpur\"}\n",
    "D"
   ]
  },
  {
   "cell_type": "markdown",
   "id": "8e360f30-7738-4dd1-90de-8c4b8f2e7c32",
   "metadata": {},
   "source": [
    "# question 22"
   ]
  },
  {
   "cell_type": "raw",
   "id": "7b51bfa1-b2c4-4548-9d96-911a79aaf50b",
   "metadata": {},
   "source": [
    "# Write a code to add a new key-value pair \"country\": \"USA\" to the dictionary"
   ]
  },
  {
   "cell_type": "code",
   "execution_count": 1,
   "id": "6f7782de-0f7f-45dc-af24-d0f5aa8e1b83",
   "metadata": {},
   "outputs": [
    {
     "data": {
      "text/plain": [
       "{'name': 'John', 'age': 25}"
      ]
     },
     "execution_count": 1,
     "metadata": {},
     "output_type": "execute_result"
    }
   ],
   "source": [
    "d={\"name\":\"John\", \"age\": 25}\n",
    "d"
   ]
  },
  {
   "cell_type": "code",
   "execution_count": 2,
   "id": "15306220-9c8e-4f3c-ae93-867c0912cf65",
   "metadata": {},
   "outputs": [
    {
     "data": {
      "text/plain": [
       "{'name': 'John', 'age': 25, 'country': 'USA'}"
      ]
     },
     "execution_count": 2,
     "metadata": {},
     "output_type": "execute_result"
    }
   ],
   "source": [
    "d[\"country\"]=\"USA\"\n",
    "d"
   ]
  },
  {
   "cell_type": "markdown",
   "id": "4b42cfc0-dde4-4cf6-af9f-168acda2cdbf",
   "metadata": {},
   "source": [
    "# question 23"
   ]
  },
  {
   "cell_type": "code",
   "execution_count": 46,
   "id": "057b8d6f-1f54-45a0-9460-b31419b649f9",
   "metadata": {},
   "outputs": [
    {
     "data": {
      "text/plain": [
       "{'name': 'Alice', 'age': 30}"
      ]
     },
     "execution_count": 46,
     "metadata": {},
     "output_type": "execute_result"
    }
   ],
   "source": [
    "d1= {\"name\": \"Alice\", \"age\": 30}\n",
    "d1"
   ]
  },
  {
   "cell_type": "code",
   "execution_count": 47,
   "id": "c0b850dc-1b2b-45b2-91a0-8605839ef73e",
   "metadata": {},
   "outputs": [
    {
     "data": {
      "text/plain": [
       "'Alice'"
      ]
     },
     "execution_count": 47,
     "metadata": {},
     "output_type": "execute_result"
    }
   ],
   "source": [
    "d1[\"name\"]"
   ]
  },
  {
   "cell_type": "markdown",
   "id": "3792bcc1-2dea-4c29-b97e-7bf305b03d41",
   "metadata": {},
   "source": [
    "# question 24"
   ]
  },
  {
   "cell_type": "code",
   "execution_count": 45,
   "id": "e00d373e-6a61-47fa-b256-7130ca08b0c0",
   "metadata": {},
   "outputs": [
    {
     "data": {
      "text/plain": [
       "{'name': 'Bob', 'age': 22, 'city': 'New York'}"
      ]
     },
     "execution_count": 45,
     "metadata": {},
     "output_type": "execute_result"
    }
   ],
   "source": [
    "d2={\"name\": \"Bob\", \"age\": 22, \"city\": \"New York\"}\n",
    "d2"
   ]
  },
  {
   "cell_type": "code",
   "execution_count": 47,
   "id": "621c6248-47e7-4bce-894c-c399b9aecfb4",
   "metadata": {},
   "outputs": [
    {
     "data": {
      "text/plain": [
       "{'name': 'Bob', 'city': 'New York'}"
      ]
     },
     "execution_count": 47,
     "metadata": {},
     "output_type": "execute_result"
    }
   ],
   "source": [
    "d2.pop(\"age\")\n",
    "d2"
   ]
  },
  {
   "cell_type": "markdown",
   "id": "7c5161bb-d046-4e42-91d7-28e2697650e0",
   "metadata": {},
   "source": [
    "# question25"
   ]
  },
  {
   "cell_type": "code",
   "execution_count": 58,
   "id": "12b1a656-7d38-4923-a85e-364cdddb41c2",
   "metadata": {},
   "outputs": [
    {
     "data": {
      "text/plain": [
       "{'name': 'Alice', 'city': 'Paris'}"
      ]
     },
     "execution_count": 58,
     "metadata": {},
     "output_type": "execute_result"
    }
   ],
   "source": [
    "d3={'name': 'Alice', 'city': 'Paris'}\n",
    "d3"
   ]
  },
  {
   "cell_type": "code",
   "execution_count": 10,
   "id": "44597ada-803a-4839-a5b1-1e8cca1ae447",
   "metadata": {},
   "outputs": [
    {
     "name": "stdout",
     "output_type": "stream",
     "text": [
      "city exist in d3\n"
     ]
    }
   ],
   "source": [
    "d3={'name': 'Alice', 'city': 'Paris'}\n",
    "key = \"city\"\n",
    "if key  in d3:\n",
    "    print(\"city exist in d3\")\n",
    "else:\n",
    "   print(\"city is not exist in d3\")"
   ]
  },
  {
   "cell_type": "markdown",
   "id": "9833715e-35ea-4b09-aea8-37fd8445c145",
   "metadata": {},
   "source": [
    "# question 26  "
   ]
  },
  {
   "cell_type": "code",
   "execution_count": 68,
   "id": "65dda2e9-92ab-429d-8b2e-1cb23fdf56cf",
   "metadata": {},
   "outputs": [
    {
     "name": "stdout",
     "output_type": "stream",
     "text": [
      "[1, 2, 3.6, 'True', (7+3j), 'amit']\n",
      "(6, 4, 3.3, 'mira')\n",
      "{'name': 'ashwini', 'age': 29, 'city': 'nagpur', 'state': 'maharashtra'}\n"
     ]
    }
   ],
   "source": [
    "list=[1,2,3.6,\"True\",7+3j,\"amit\"]\n",
    "t1=(6,4,3.3,\"mira\")\n",
    "dict={\"name\":\"ashwini\",\"age\":29,\"city\":\"nagpur\",\"state\":\"maharashtra\"}\n",
    "print(list)\n",
    "print(t1)\n",
    "print(dict)"
   ]
  },
  {
   "cell_type": "markdown",
   "id": "5f703a4b-9918-403d-bf96-f1838cba9863",
   "metadata": {},
   "source": [
    "# question 27 "
   ]
  },
  {
   "cell_type": "code",
   "execution_count": 51,
   "id": "7675d4bf-4d7b-4e5b-9cce-ebf90c46a9a6",
   "metadata": {},
   "outputs": [
    {
     "data": {
      "text/plain": [
       "[10, 98, 68, 88, 35]"
      ]
     },
     "execution_count": 51,
     "metadata": {},
     "output_type": "execute_result"
    }
   ],
   "source": [
    "l1=[10,98,68,88,35]\n",
    "l1"
   ]
  },
  {
   "cell_type": "code",
   "execution_count": 52,
   "id": "5f8ad3ba-fdad-4979-96f2-d2b0930bbca6",
   "metadata": {},
   "outputs": [
    {
     "data": {
      "text/plain": [
       "[10, 35, 68, 88, 98]"
      ]
     },
     "execution_count": 52,
     "metadata": {},
     "output_type": "execute_result"
    }
   ],
   "source": [
    "l1.sort( )\n",
    "l1"
   ]
  },
  {
   "cell_type": "code",
   "execution_count": 53,
   "id": "5a37f924-fb5c-4b6c-a47d-448c11d030d9",
   "metadata": {},
   "outputs": [
    {
     "data": {
      "text/plain": [
       "[98, 88, 68, 35, 10]"
      ]
     },
     "execution_count": 53,
     "metadata": {},
     "output_type": "execute_result"
    }
   ],
   "source": [
    "l1.sort(reverse=True)\n",
    "l1"
   ]
  },
  {
   "cell_type": "markdown",
   "id": "a9552d88-1a46-4c29-a30f-d821eb1a8479",
   "metadata": {},
   "source": [
    "# question 28 "
   ]
  },
  {
   "cell_type": "code",
   "execution_count": 72,
   "id": "12430032-d8f4-40cd-b0d4-5bcda96878e0",
   "metadata": {},
   "outputs": [
    {
     "data": {
      "text/plain": [
       "['ashwini', 'patil', 'nagpur', 'mira', 'rajput']"
      ]
     },
     "execution_count": 72,
     "metadata": {},
     "output_type": "execute_result"
    }
   ],
   "source": [
    "l2=[\"ashwini\",\"patil\",\"nagpur\",\"mira\",\"rajput\"]\n",
    "l2"
   ]
  },
  {
   "cell_type": "code",
   "execution_count": 73,
   "id": "67a888a2-7cae-4f77-9cac-befc9cb9b617",
   "metadata": {},
   "outputs": [
    {
     "data": {
      "text/plain": [
       "'mira'"
      ]
     },
     "execution_count": 73,
     "metadata": {},
     "output_type": "execute_result"
    }
   ],
   "source": [
    "l2[3]"
   ]
  },
  {
   "cell_type": "raw",
   "id": "575e8c3f-8a99-4480-8f17-64b6bd5f0635",
   "metadata": {},
   "source": [
    "# question 29  Write a code to combine two dictionaries into one and print the result."
   ]
  },
  {
   "cell_type": "code",
   "execution_count": 11,
   "id": "6809c0b7-8ad5-4575-85c1-16c3f0dcc395",
   "metadata": {},
   "outputs": [
    {
     "data": {
      "text/plain": [
       "({'maharashtra': 'mumbai', 'delhi': 'new delhi', 'madhyapradesh': 'bhopal'},\n",
       " {'himachal pardesh': 'shimla', 'bihar': 'gaya'})"
      ]
     },
     "execution_count": 11,
     "metadata": {},
     "output_type": "execute_result"
    }
   ],
   "source": [
    "D1={\"maharashtra\":\"mumbai\",\"delhi\":\"new delhi\",\"madhyapradesh\":\"bhopal\"}\n",
    "D2={\"himachal pardesh\":\"shimla\",\"bihar\":\"gaya\"}\n",
    "D3=(D1,D2)\n",
    "D3"
   ]
  },
  {
   "cell_type": "raw",
   "id": "800eb426-c755-406d-85bb-b1f2dfc55afa",
   "metadata": {},
   "source": [
    "# question no.30."
   ]
  },
  {
   "cell_type": "code",
   "execution_count": 2,
   "id": "c425f102-a424-4895-a6f3-370160b52495",
   "metadata": {},
   "outputs": [
    {
     "data": {
      "text/plain": [
       "['ashwini', 'patil', 'mira', 'gaikwad', 'rajan']"
      ]
     },
     "execution_count": 2,
     "metadata": {},
     "output_type": "execute_result"
    }
   ],
   "source": [
    "list1=[\"ashwini\",\"patil\",\"mira\",\"gaikwad\", \"rajan\"]\n",
    "list1"
   ]
  },
  {
   "cell_type": "code",
   "execution_count": 4,
   "id": "981d01e4-bc00-4911-9a68-e4019ce16483",
   "metadata": {},
   "outputs": [
    {
     "data": {
      "text/plain": [
       "{'ashwini', 'gaikwad', 'mira', 'patil', 'rajan'}"
      ]
     },
     "execution_count": 4,
     "metadata": {},
     "output_type": "execute_result"
    }
   ],
   "source": [
    "S=set(list1)\n",
    "S"
   ]
  },
  {
   "cell_type": "code",
   "execution_count": null,
   "id": "f245b1c6-a6c9-42ea-a0d6-d961d31b45fe",
   "metadata": {},
   "outputs": [],
   "source": []
  }
 ],
 "metadata": {
  "kernelspec": {
   "display_name": "Python 3 (ipykernel)",
   "language": "python",
   "name": "python3"
  },
  "language_info": {
   "codemirror_mode": {
    "name": "ipython",
    "version": 3
   },
   "file_extension": ".py",
   "mimetype": "text/x-python",
   "name": "python",
   "nbconvert_exporter": "python",
   "pygments_lexer": "ipython3",
   "version": "3.12.7"
  }
 },
 "nbformat": 4,
 "nbformat_minor": 5
}
